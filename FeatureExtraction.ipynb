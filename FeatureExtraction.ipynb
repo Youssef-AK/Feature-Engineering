{
 "cells": [
  {
   "cell_type": "code",
   "execution_count": 2,
   "metadata": {},
   "outputs": [
    {
     "name": "stdout",
     "output_type": "stream",
     "text": [
      "Requirement already satisfied: nltk in c:\\users\\jk\\anaconda3\\lib\\site-packages (3.5)\n",
      "Requirement already satisfied: tqdm in c:\\users\\jk\\anaconda3\\lib\\site-packages (from nltk) (4.50.2)\n",
      "Requirement already satisfied: joblib in c:\\users\\jk\\anaconda3\\lib\\site-packages (from nltk) (1.1.0)\n",
      "Requirement already satisfied: click in c:\\users\\jk\\anaconda3\\lib\\site-packages (from nltk) (7.1.2)\n",
      "Requirement already satisfied: regex in c:\\users\\jk\\anaconda3\\lib\\site-packages (from nltk) (2020.10.15)\n",
      "Collecting inflect\n",
      "  Downloading inflect-5.3.0-py3-none-any.whl (32 kB)\n",
      "Installing collected packages: inflect\n",
      "Successfully installed inflect-5.3.0\n"
     ]
    }
   ],
   "source": [
    "!pip install nltk\n",
    "!pip install inflect"
   ]
  },
  {
   "cell_type": "code",
   "execution_count": 3,
   "metadata": {},
   "outputs": [],
   "source": [
    "import pandas as pd\n",
    "import numpy as np\n",
    "import matplotlib.pyplot as plt\n",
    "\n",
    "import nltk\n",
    "from nltk import word_tokenize"
   ]
  },
  {
   "cell_type": "code",
   "execution_count": 5,
   "metadata": {},
   "outputs": [
    {
     "name": "stderr",
     "output_type": "stream",
     "text": [
      "[nltk_data] Downloading package wordnet to\n",
      "[nltk_data]     C:\\Users\\JK\\AppData\\Roaming\\nltk_data...\n",
      "[nltk_data]   Unzipping corpora\\wordnet.zip.\n"
     ]
    },
    {
     "data": {
      "text/plain": [
       "True"
      ]
     },
     "execution_count": 5,
     "metadata": {},
     "output_type": "execute_result"
    }
   ],
   "source": [
    "nltk.download('wordnet')"
   ]
  },
  {
   "cell_type": "code",
   "execution_count": 6,
   "metadata": {},
   "outputs": [
    {
     "name": "stderr",
     "output_type": "stream",
     "text": [
      "[nltk_data] Downloading package punkt to\n",
      "[nltk_data]     C:\\Users\\JK\\AppData\\Roaming\\nltk_data...\n",
      "[nltk_data]   Unzipping tokenizers\\punkt.zip.\n"
     ]
    },
    {
     "data": {
      "text/plain": [
       "True"
      ]
     },
     "execution_count": 6,
     "metadata": {},
     "output_type": "execute_result"
    }
   ],
   "source": [
    "nltk.download('punkt')"
   ]
  },
  {
   "cell_type": "code",
   "execution_count": 13,
   "metadata": {},
   "outputs": [
    {
     "data": {
      "text/html": [
       "<div>\n",
       "<style scoped>\n",
       "    .dataframe tbody tr th:only-of-type {\n",
       "        vertical-align: middle;\n",
       "    }\n",
       "\n",
       "    .dataframe tbody tr th {\n",
       "        vertical-align: top;\n",
       "    }\n",
       "\n",
       "    .dataframe thead th {\n",
       "        text-align: right;\n",
       "    }\n",
       "</style>\n",
       "<table border=\"1\" class=\"dataframe\">\n",
       "  <thead>\n",
       "    <tr style=\"text-align: right;\">\n",
       "      <th></th>\n",
       "      <th>reviewerID</th>\n",
       "      <th>asin</th>\n",
       "      <th>reviewerName</th>\n",
       "      <th>helpful</th>\n",
       "      <th>helpful_num</th>\n",
       "      <th>helpful_den</th>\n",
       "      <th>reviewText</th>\n",
       "      <th>overall</th>\n",
       "      <th>summary</th>\n",
       "      <th>unixReviewTime</th>\n",
       "      <th>reviewTime</th>\n",
       "      <th>exclamationcount</th>\n",
       "      <th>questioncount</th>\n",
       "      <th>charcount</th>\n",
       "      <th>wordcount</th>\n",
       "      <th>capcount</th>\n",
       "      <th>avgrating</th>\n",
       "      <th>diffrating</th>\n",
       "      <th>ishelpful</th>\n",
       "    </tr>\n",
       "  </thead>\n",
       "  <tbody>\n",
       "    <tr>\n",
       "      <th>0</th>\n",
       "      <td>A3NMPMELAZC8ZY</td>\n",
       "      <td>097293751X</td>\n",
       "      <td>Jakell</td>\n",
       "      <td>[3, 3]</td>\n",
       "      <td>3</td>\n",
       "      <td>3</td>\n",
       "      <td>This book is perfect!  I'm a first time new mo...</td>\n",
       "      <td>5</td>\n",
       "      <td>Great for newborns</td>\n",
       "      <td>1359244800</td>\n",
       "      <td>01 27, 2013</td>\n",
       "      <td>1</td>\n",
       "      <td>0</td>\n",
       "      <td>250</td>\n",
       "      <td>46</td>\n",
       "      <td>0</td>\n",
       "      <td>4.0</td>\n",
       "      <td>1.0</td>\n",
       "      <td>1</td>\n",
       "    </tr>\n",
       "    <tr>\n",
       "      <th>1</th>\n",
       "      <td>A3O4ATU0ENBKTU</td>\n",
       "      <td>097293751X</td>\n",
       "      <td>MAPN</td>\n",
       "      <td>[1, 1]</td>\n",
       "      <td>1</td>\n",
       "      <td>1</td>\n",
       "      <td>I use this so that our babysitter (grandma) ca...</td>\n",
       "      <td>5</td>\n",
       "      <td>Compact and Easy way to record the milestones</td>\n",
       "      <td>1361836800</td>\n",
       "      <td>02 26, 2013</td>\n",
       "      <td>0</td>\n",
       "      <td>0</td>\n",
       "      <td>734</td>\n",
       "      <td>148</td>\n",
       "      <td>0</td>\n",
       "      <td>4.0</td>\n",
       "      <td>1.0</td>\n",
       "      <td>1</td>\n",
       "    </tr>\n",
       "    <tr>\n",
       "      <th>2</th>\n",
       "      <td>A2SYNL4YX73KNY</td>\n",
       "      <td>097293751X</td>\n",
       "      <td>R. Davidson \"Jrdpa\"</td>\n",
       "      <td>[2, 2]</td>\n",
       "      <td>2</td>\n",
       "      <td>2</td>\n",
       "      <td>I like this log, but think it would work bette...</td>\n",
       "      <td>3</td>\n",
       "      <td>Needs clearer AM &amp; PM</td>\n",
       "      <td>1369008000</td>\n",
       "      <td>05 20, 2013</td>\n",
       "      <td>0</td>\n",
       "      <td>0</td>\n",
       "      <td>288</td>\n",
       "      <td>59</td>\n",
       "      <td>2</td>\n",
       "      <td>4.0</td>\n",
       "      <td>1.0</td>\n",
       "      <td>1</td>\n",
       "    </tr>\n",
       "    <tr>\n",
       "      <th>3</th>\n",
       "      <td>A2Q2A6JKY95RTP</td>\n",
       "      <td>097293751X</td>\n",
       "      <td>R. Garrelts</td>\n",
       "      <td>[2, 2]</td>\n",
       "      <td>2</td>\n",
       "      <td>2</td>\n",
       "      <td>My wife and I have a six month old baby boy an...</td>\n",
       "      <td>3</td>\n",
       "      <td>Expensive and Somewhat Limited Format</td>\n",
       "      <td>1381968000</td>\n",
       "      <td>10 17, 2013</td>\n",
       "      <td>0</td>\n",
       "      <td>0</td>\n",
       "      <td>2959</td>\n",
       "      <td>505</td>\n",
       "      <td>9</td>\n",
       "      <td>4.0</td>\n",
       "      <td>1.0</td>\n",
       "      <td>1</td>\n",
       "    </tr>\n",
       "    <tr>\n",
       "      <th>4</th>\n",
       "      <td>A21I33AWNOWMK8</td>\n",
       "      <td>9729375011</td>\n",
       "      <td>EmilyS</td>\n",
       "      <td>[1, 2]</td>\n",
       "      <td>1</td>\n",
       "      <td>2</td>\n",
       "      <td>I have used this book since my son was born.  ...</td>\n",
       "      <td>5</td>\n",
       "      <td>Great product!</td>\n",
       "      <td>1364256000</td>\n",
       "      <td>03 26, 2013</td>\n",
       "      <td>0</td>\n",
       "      <td>0</td>\n",
       "      <td>595</td>\n",
       "      <td>117</td>\n",
       "      <td>0</td>\n",
       "      <td>4.5</td>\n",
       "      <td>0.5</td>\n",
       "      <td>0</td>\n",
       "    </tr>\n",
       "  </tbody>\n",
       "</table>\n",
       "</div>"
      ],
      "text/plain": [
       "       reviewerID        asin        reviewerName  helpful  helpful_num  \\\n",
       "0  A3NMPMELAZC8ZY  097293751X               Jakell  [3, 3]            3   \n",
       "1  A3O4ATU0ENBKTU  097293751X                 MAPN  [1, 1]            1   \n",
       "2  A2SYNL4YX73KNY  097293751X  R. Davidson \"Jrdpa\"  [2, 2]            2   \n",
       "3  A2Q2A6JKY95RTP  097293751X          R. Garrelts  [2, 2]            2   \n",
       "4  A21I33AWNOWMK8  9729375011               EmilyS  [1, 2]            1   \n",
       "\n",
       "   helpful_den                                         reviewText  overall  \\\n",
       "0            3  This book is perfect!  I'm a first time new mo...        5   \n",
       "1            1  I use this so that our babysitter (grandma) ca...        5   \n",
       "2            2  I like this log, but think it would work bette...        3   \n",
       "3            2  My wife and I have a six month old baby boy an...        3   \n",
       "4            2  I have used this book since my son was born.  ...        5   \n",
       "\n",
       "                                         summary  unixReviewTime   reviewTime  \\\n",
       "0                             Great for newborns      1359244800  01 27, 2013   \n",
       "1  Compact and Easy way to record the milestones      1361836800  02 26, 2013   \n",
       "2                          Needs clearer AM & PM      1369008000  05 20, 2013   \n",
       "3          Expensive and Somewhat Limited Format      1381968000  10 17, 2013   \n",
       "4                                 Great product!      1364256000  03 26, 2013   \n",
       "\n",
       "   exclamationcount  questioncount  charcount  wordcount  capcount  avgrating  \\\n",
       "0                 1              0        250         46         0        4.0   \n",
       "1                 0              0        734        148         0        4.0   \n",
       "2                 0              0        288         59         2        4.0   \n",
       "3                 0              0       2959        505         9        4.0   \n",
       "4                 0              0        595        117         0        4.5   \n",
       "\n",
       "   diffrating  ishelpful  \n",
       "0         1.0          1  \n",
       "1         1.0          1  \n",
       "2         1.0          1  \n",
       "3         1.0          1  \n",
       "4         0.5          0  "
      ]
     },
     "execution_count": 13,
     "metadata": {},
     "output_type": "execute_result"
    }
   ],
   "source": [
    "df = pd.read_csv('reviews_Baby_5_final_dataset.csv')\n",
    "df.head()"
   ]
  },
  {
   "cell_type": "code",
   "execution_count": 14,
   "metadata": {},
   "outputs": [
    {
     "data": {
      "text/plain": [
       "(56950, 19)"
      ]
     },
     "execution_count": 14,
     "metadata": {},
     "output_type": "execute_result"
    }
   ],
   "source": [
    "df.shape"
   ]
  },
  {
   "cell_type": "code",
   "execution_count": 15,
   "metadata": {},
   "outputs": [
    {
     "data": {
      "text/html": [
       "<div>\n",
       "<style scoped>\n",
       "    .dataframe tbody tr th:only-of-type {\n",
       "        vertical-align: middle;\n",
       "    }\n",
       "\n",
       "    .dataframe tbody tr th {\n",
       "        vertical-align: top;\n",
       "    }\n",
       "\n",
       "    .dataframe thead th {\n",
       "        text-align: right;\n",
       "    }\n",
       "</style>\n",
       "<table border=\"1\" class=\"dataframe\">\n",
       "  <thead>\n",
       "    <tr style=\"text-align: right;\">\n",
       "      <th></th>\n",
       "      <th>reviewText</th>\n",
       "    </tr>\n",
       "  </thead>\n",
       "  <tbody>\n",
       "    <tr>\n",
       "      <th>0</th>\n",
       "      <td>This book is perfect!  I'm a first time new mo...</td>\n",
       "    </tr>\n",
       "    <tr>\n",
       "      <th>1</th>\n",
       "      <td>I use this so that our babysitter (grandma) ca...</td>\n",
       "    </tr>\n",
       "    <tr>\n",
       "      <th>2</th>\n",
       "      <td>I like this log, but think it would work bette...</td>\n",
       "    </tr>\n",
       "    <tr>\n",
       "      <th>3</th>\n",
       "      <td>My wife and I have a six month old baby boy an...</td>\n",
       "    </tr>\n",
       "    <tr>\n",
       "      <th>4</th>\n",
       "      <td>I have used this book since my son was born.  ...</td>\n",
       "    </tr>\n",
       "  </tbody>\n",
       "</table>\n",
       "</div>"
      ],
      "text/plain": [
       "                                          reviewText\n",
       "0  This book is perfect!  I'm a first time new mo...\n",
       "1  I use this so that our babysitter (grandma) ca...\n",
       "2  I like this log, but think it would work bette...\n",
       "3  My wife and I have a six month old baby boy an...\n",
       "4  I have used this book since my son was born.  ..."
      ]
     },
     "execution_count": 15,
     "metadata": {},
     "output_type": "execute_result"
    }
   ],
   "source": [
    "df = df[['reviewText']]\n",
    "df.head()"
   ]
  },
  {
   "cell_type": "code",
   "execution_count": 16,
   "metadata": {},
   "outputs": [],
   "source": [
    "df = df[:6]"
   ]
  },
  {
   "cell_type": "code",
   "execution_count": 17,
   "metadata": {},
   "outputs": [
    {
     "data": {
      "text/plain": [
       "(6, 1)"
      ]
     },
     "execution_count": 17,
     "metadata": {},
     "output_type": "execute_result"
    }
   ],
   "source": [
    "df.shape"
   ]
  },
  {
   "cell_type": "markdown",
   "metadata": {},
   "source": [
    "# Tokenization"
   ]
  },
  {
   "cell_type": "code",
   "execution_count": 20,
   "metadata": {},
   "outputs": [],
   "source": [
    "docs = list(df['reviewText'])"
   ]
  },
  {
   "cell_type": "code",
   "execution_count": 21,
   "metadata": {},
   "outputs": [
    {
     "data": {
      "text/plain": [
       "\"This book is perfect!  I'm a first time new mom, and this book made it so easy to keep track of feedings, diaper changes, sleep.  Definitely would recommend this for new moms.  Plus it's small enough that I throw in the diaper back for doctor visits.\""
      ]
     },
     "execution_count": 21,
     "metadata": {},
     "output_type": "execute_result"
    }
   ],
   "source": [
    "docs[0]"
   ]
  },
  {
   "cell_type": "code",
   "execution_count": 22,
   "metadata": {},
   "outputs": [],
   "source": [
    "doc_word_tokens = []\n",
    "\n",
    "for doc in docs:\n",
    "    tokenize_word = word_tokenize(doc)\n",
    "    \n",
    "    doc_word_tokens.append(tokenize_word)"
   ]
  },
  {
   "cell_type": "code",
   "execution_count": 24,
   "metadata": {},
   "outputs": [
    {
     "name": "stdout",
     "output_type": "stream",
     "text": [
      "['This', 'book', 'is', 'perfect', '!', 'I', \"'m\", 'a', 'first', 'time', 'new', 'mom', ',', 'and', 'this', 'book', 'made', 'it', 'so', 'easy', 'to', 'keep', 'track', 'of', 'feedings', ',', 'diaper', 'changes', ',', 'sleep', '.', 'Definitely', 'would', 'recommend', 'this', 'for', 'new', 'moms', '.', 'Plus', 'it', \"'s\", 'small', 'enough', 'that', 'I', 'throw', 'in', 'the', 'diaper', 'back', 'for', 'doctor', 'visits', '.']\n"
     ]
    }
   ],
   "source": [
    "print(doc_word_tokens[0])"
   ]
  },
  {
   "cell_type": "code",
   "execution_count": 25,
   "metadata": {},
   "outputs": [],
   "source": [
    "from nltk.probability import FreqDist\n",
    "fdist = FreqDist(doc_word_tokens[0])"
   ]
  },
  {
   "cell_type": "code",
   "execution_count": 27,
   "metadata": {},
   "outputs": [
    {
     "data": {
      "text/plain": [
       "[(',', 3),\n",
       " ('.', 3),\n",
       " ('book', 2),\n",
       " ('I', 2),\n",
       " ('new', 2),\n",
       " ('this', 2),\n",
       " ('it', 2),\n",
       " ('diaper', 2),\n",
       " ('for', 2),\n",
       " ('This', 1),\n",
       " ('is', 1),\n",
       " ('perfect', 1),\n",
       " ('!', 1),\n",
       " (\"'m\", 1),\n",
       " ('a', 1)]"
      ]
     },
     "execution_count": 27,
     "metadata": {},
     "output_type": "execute_result"
    }
   ],
   "source": [
    "fdist.most_common(15)"
   ]
  },
  {
   "cell_type": "code",
   "execution_count": 29,
   "metadata": {},
   "outputs": [
    {
     "data": {
      "image/png": "[encoded data removed]",
      "text/plain": [
       "<Figure size 1296x432 with 1 Axes>"
      ]
     },
     "metadata": {
      "needs_background": "light"
     },
     "output_type": "display_data"
    }
   ],
   "source": [
    "# Viualize it\n",
    "plt.figure(figsize=(18, 6))\n",
    "fdist.plot(cumulative= False)\n",
    "plt.show()"
   ]
  },
  {
   "cell_type": "markdown",
   "metadata": {},
   "source": [
    "# Normalization"
   ]
  },
  {
   "cell_type": "code",
   "execution_count": 45,
   "metadata": {},
   "outputs": [],
   "source": [
    "import re, string, unicodedata\n",
    "\n",
    "import inflect \n",
    "from nltk.corpus import stopwords\n",
    "from nltk.stem import WordNetLemmatizer"
   ]
  },
  {
   "cell_type": "code",
   "execution_count": 31,
   "metadata": {},
   "outputs": [],
   "source": [
    "# Lower case\n",
    "def to_lowercase(docs):\n",
    "    docs_list= []\n",
    "    \n",
    "    for doc in docs:\n",
    "        new_word = doc.lower()\n",
    "        docs_list.append(new_word)\n",
    "        \n",
    "    return docs_list"
   ]
  },
  {
   "cell_type": "code",
   "execution_count": 32,
   "metadata": {},
   "outputs": [],
   "source": [
    "# Remove punctuations\n",
    "def remove_puncs(docs):\n",
    "    docs_list = []\n",
    "    for doc in docs:\n",
    "        new_word = re.sub('[^\\w\\s]', '', doc)\n",
    "        \n",
    "        if new_word != '':\n",
    "            docs_list.append(new_word)\n",
    "    return docs_list"
   ]
  },
  {
   "cell_type": "code",
   "execution_count": 33,
   "metadata": {},
   "outputs": [],
   "source": [
    "# Replace numbers\n",
    "def replace_numbers(docs):\n",
    "    docs_list= []\n",
    "    inf_engine = inflect.engine()\n",
    "    \n",
    "    for doc in docs:\n",
    "        \n",
    "        final_word_list= []\n",
    "        words = doc.split()\n",
    "        \n",
    "        for word in words:\n",
    "            if word.isdigit():\n",
    "                final_word_list.append(inf_engine.number_to_words(word))\n",
    "            else:\n",
    "                final_word_list.append(word)\n",
    "        docs_list.append(\" \".join(final_word_list))\n",
    "    return docs_list"
   ]
  },
  {
   "cell_type": "code",
   "execution_count": 36,
   "metadata": {},
   "outputs": [],
   "source": [
    "# Lematize words\n",
    "def lemmatize_verbs(docs):\n",
    "    lemmatizer = WordNetLemmatizer()\n",
    "    docs_list = []\n",
    "    \n",
    "    for doc in docs:\n",
    "        \n",
    "        final_word_list = []\n",
    "        words = doc.split()\n",
    "        \n",
    "        for word in words:\n",
    "            final_word_list.append(lemmatizer.lemmatize(word, pos= 'v'))\n",
    "        docs_list.append(\" \".join(final_word_list))\n",
    "        \n",
    "    return docs_list"
   ]
  },
  {
   "cell_type": "code",
   "execution_count": 37,
   "metadata": {},
   "outputs": [],
   "source": [
    "# All helper methods\n",
    "def normalization(docs):\n",
    "    docs = to_lowercase(docs)\n",
    "    docs = remove_puncs(docs)\n",
    "    docs = replace_numbers(docs)\n",
    "    docs = lemmatize_verbs(docs)\n",
    "    return docs"
   ]
  },
  {
   "cell_type": "code",
   "execution_count": 40,
   "metadata": {},
   "outputs": [
    {
     "data": {
      "text/plain": [
       "\"This book is perfect!  I'm a first time new mom, and this book made it so easy to keep track of feedings, diaper changes, sleep.  Definitely would recommend this for new moms.  Plus it's small enough that I throw in the diaper back for doctor visits.\""
      ]
     },
     "execution_count": 40,
     "metadata": {},
     "output_type": "execute_result"
    }
   ],
   "source": [
    "docs[0]"
   ]
  },
  {
   "cell_type": "code",
   "execution_count": 42,
   "metadata": {},
   "outputs": [
    {
     "data": {
      "text/plain": [
       "\"this book is perfect!  i'm a first time new mom, and this book made it so easy to keep track of feedings, diaper changes, sleep.  definitely would recommend this for new moms.  plus it's small enough that i throw in the diaper back for doctor visits.\""
      ]
     },
     "execution_count": 42,
     "metadata": {},
     "output_type": "execute_result"
    }
   ],
   "source": [
    "lowercase_docs = to_lowercase(docs)\n",
    "lowercase_docs[0]"
   ]
  },
  {
   "cell_type": "code",
   "execution_count": 47,
   "metadata": {},
   "outputs": [
    {
     "data": {
      "text/plain": [
       "'i like this log but think it would work better with clearer am  pm sections each page is 12 hours so you really need two pages a day if your baby feeds or wets a lot in the early morning hours between midnight and 7am were cramming those in to the 2 blank spaces above 7am right now'"
      ]
     },
     "execution_count": 47,
     "metadata": {},
     "output_type": "execute_result"
    }
   ],
   "source": [
    "remove_punc_docs = remove_puncs(lowercase_docs)\n",
    "remove_punc_docs[2]"
   ]
  },
  {
   "cell_type": "code",
   "execution_count": 48,
   "metadata": {},
   "outputs": [
    {
     "data": {
      "text/plain": [
       "'i like this log but think it would work better with clearer am pm sections each page is twelve hours so you really need two pages a day if your baby feeds or wets a lot in the early morning hours between midnight and 7am were cramming those in to the two blank spaces above 7am right now'"
      ]
     },
     "execution_count": 48,
     "metadata": {},
     "output_type": "execute_result"
    }
   ],
   "source": [
    "nums_replace_docs = replace_numbers(remove_punc_docs)\n",
    "nums_replace_docs[2]"
   ]
  },
  {
   "cell_type": "code",
   "execution_count": 50,
   "metadata": {},
   "outputs": [
    {
     "data": {
      "text/plain": [
       "['These pretzels be make me thirsty',\n",
       " 'Sometimes the road less travel be less travel for a reason.']"
      ]
     },
     "execution_count": 50,
     "metadata": {},
     "output_type": "execute_result"
    }
   ],
   "source": [
    "# Try lemmatization\n",
    "doc_to_lemmatize = ['These pretzels are making me thirsty',\n",
    "                   'Sometimes the road less traveled is less traveled for a reason.']\n",
    "lemmatize_verbs(doc_to_lemmatize)"
   ]
  },
  {
   "cell_type": "markdown",
   "metadata": {},
   "source": [
    "# Create Feature Vectors From Text"
   ]
  },
  {
   "cell_type": "code",
   "execution_count": 51,
   "metadata": {},
   "outputs": [
    {
     "data": {
      "text/plain": [
       "CountVectorizer()"
      ]
     },
     "execution_count": 51,
     "metadata": {},
     "output_type": "execute_result"
    }
   ],
   "source": [
    "from sklearn.feature_extraction.text import CountVectorizer\n",
    "\n",
    "count_vectorizer = CountVectorizer()\n",
    "count_vectorizer.fit(docs)"
   ]
  },
  {
   "cell_type": "code",
   "execution_count": 52,
   "metadata": {},
   "outputs": [
    {
     "data": {
      "text/plain": [
       "{'this': 336,\n",
       " 'book': 42,\n",
       " 'is': 174,\n",
       " 'perfect': 258,\n",
       " 'first': 119,\n",
       " 'time': 340,\n",
       " 'new': 227,\n",
       " 'mom': 211,\n",
       " 'and': 18,\n",
       " 'made': 199,\n",
       " 'it': 175,\n",
       " 'so': 307,\n",
       " 'easy': 97,\n",
       " 'to': 343,\n",
       " 'keep': 178,\n",
       " 'track': 346,\n",
       " 'of': 235,\n",
       " 'feedings': 113,\n",
       " 'diaper': 83,\n",
       " 'changes': 55,\n",
       " 'sleep': 305,\n",
       " 'definitely': 80,\n",
       " 'would': 384,\n",
       " 'recommend': 280,\n",
       " 'for': 121,\n",
       " 'moms': 213,\n",
       " 'plus': 264,\n",
       " 'small': 306,\n",
       " 'enough': 102,\n",
       " 'that': 327,\n",
       " 'throw': 338,\n",
       " 'in': 167,\n",
       " 'the': 328,\n",
       " 'back': 29,\n",
       " 'doctor': 88,\n",
       " 'visits': 361,\n",
       " 'use': 355,\n",
       " 'our': 248,\n",
       " 'babysitter': 28,\n",
       " 'grandma': 137,\n",
       " 'can': 50,\n",
       " 'what': 372,\n",
       " 'goes': 134,\n",
       " 'on': 239,\n",
       " 'during': 92,\n",
       " 'day': 78,\n",
       " 'we': 366,\n",
       " 've': 359,\n",
       " 'recorded': 281,\n",
       " 'many': 203,\n",
       " 'milestones': 210,\n",
       " 'since': 302,\n",
       " 'received': 279,\n",
       " 'month': 214,\n",
       " 'diary': 84,\n",
       " 'has': 146,\n",
       " 'room': 286,\n",
       " 'notes': 233,\n",
       " 'wish': 378,\n",
       " 'hours': 158,\n",
       " 'started': 317,\n",
       " 'around': 22,\n",
       " 'am': 16,\n",
       " 'went': 369,\n",
       " 'until': 353,\n",
       " 'pm': 265,\n",
       " 'but': 47,\n",
       " 'just': 177,\n",
       " 'write': 385,\n",
       " 'over': 250,\n",
       " 'certain': 53,\n",
       " 'times': 341,\n",
       " 'suit': 322,\n",
       " 'purposes': 272,\n",
       " 'nice': 228,\n",
       " 'thing': 333,\n",
       " 'if': 164,\n",
       " 'had': 140,\n",
       " 'rough': 287,\n",
       " 'night': 229,\n",
       " 'are': 20,\n",
       " 'super': 325,\n",
       " 'tired': 342,\n",
       " 'have': 147,\n",
       " 'something': 309,\n",
       " 'refer': 282,\n",
       " 'forgot': 122,\n",
       " 'when': 373,\n",
       " 'last': 182,\n",
       " 'fed': 112,\n",
       " 'baby': 27,\n",
       " 'or': 245,\n",
       " 'he': 148,\n",
       " 'woke': 380,\n",
       " 'up': 354,\n",
       " 'also': 15,\n",
       " 'like': 191,\n",
       " 'front': 126,\n",
       " 'page': 252,\n",
       " 'place': 261,\n",
       " 'emergency': 100,\n",
       " 'comments': 64,\n",
       " 'consent': 67,\n",
       " 'form': 123,\n",
       " 'case': 52,\n",
       " 'your': 388,\n",
       " 'child': 57,\n",
       " 'needs': 226,\n",
       " 'medical': 207,\n",
       " 'care': 51,\n",
       " 'at': 25,\n",
       " 'immunizations': 165,\n",
       " 'll': 194,\n",
       " 'get': 131,\n",
       " 'another': 19,\n",
       " 'one': 241,\n",
       " 'months': 215,\n",
       " 'finish': 118,\n",
       " 'log': 196,\n",
       " 'think': 335,\n",
       " 'work': 381,\n",
       " 'better': 38,\n",
       " 'with': 379,\n",
       " 'clearer': 60,\n",
       " 'sections': 292,\n",
       " 'each': 93,\n",
       " '12': 0,\n",
       " 'you': 387,\n",
       " 'really': 278,\n",
       " 'need': 225,\n",
       " 'two': 350,\n",
       " 'pages': 253,\n",
       " 'feeds': 114,\n",
       " 'wets': 371,\n",
       " 'lot': 198,\n",
       " 'early': 95,\n",
       " 'morning': 217,\n",
       " 'between': 39,\n",
       " 'midnight': 209,\n",
       " '7am': 4,\n",
       " 're': 275,\n",
       " 'cramming': 74,\n",
       " 'those': 337,\n",
       " 'blank': 41,\n",
       " 'spaces': 313,\n",
       " 'above': 7,\n",
       " 'right': 285,\n",
       " 'now': 234,\n",
       " 'my': 221,\n",
       " 'wife': 377,\n",
       " 'six': 303,\n",
       " 'old': 238,\n",
       " 'boy': 46,\n",
       " 'mark': 204,\n",
       " 'decided': 79,\n",
       " 'she': 295,\n",
       " 'return': 284,\n",
       " 'instead': 171,\n",
       " 'being': 36,\n",
       " 'stay': 320,\n",
       " 'home': 156,\n",
       " 'hired': 153,\n",
       " 'an': 17,\n",
       " 'nanny': 222,\n",
       " 'little': 193,\n",
       " 'arrangement': 23,\n",
       " 'worked': 382,\n",
       " 'quite': 274,\n",
       " 'well': 368,\n",
       " 'ever': 108,\n",
       " 'shortly': 299,\n",
       " 'after': 11,\n",
       " 'starting': 318,\n",
       " 'realized': 277,\n",
       " 'some': 308,\n",
       " 'sort': 311,\n",
       " 'journal': 176,\n",
       " 'activities': 9,\n",
       " 'while': 375,\n",
       " 'was': 363,\n",
       " 'were': 370,\n",
       " 'working': 383,\n",
       " 'used': 356,\n",
       " 'plain': 262,\n",
       " 'notebook': 232,\n",
       " 'period': 259,\n",
       " 'weeks': 367,\n",
       " 'stumbled': 321,\n",
       " 'tracker': 347,\n",
       " 'daily': 76,\n",
       " 'childcare': 58,\n",
       " 'layout': 183,\n",
       " 'excellent': 110,\n",
       " 'idea': 162,\n",
       " 'clearly': 61,\n",
       " 'divided': 87,\n",
       " 'into': 173,\n",
       " 'columns': 63,\n",
       " 'tracking': 348,\n",
       " 'nap': 223,\n",
       " 'play': 263,\n",
       " 'as': 24,\n",
       " 'general': 130,\n",
       " 'areas': 21,\n",
       " 'legibility': 188,\n",
       " 'huge': 161,\n",
       " 'improvement': 166,\n",
       " 'standard': 315,\n",
       " 'entries': 105,\n",
       " 'ended': 101,\n",
       " 'becoming': 34,\n",
       " 'paragraphs': 256,\n",
       " 'few': 115,\n",
       " 'short': 298,\n",
       " 'moments': 212,\n",
       " 'summarize': 323,\n",
       " 'all': 13,\n",
       " 'data': 77,\n",
       " 'totals': 345,\n",
       " 'section': 291,\n",
       " 'determine': 81,\n",
       " 'key': 179,\n",
       " 'information': 169,\n",
       " 'how': 159,\n",
       " 'much': 220,\n",
       " 'did': 85,\n",
       " 'eat': 98,\n",
       " 'bowel': 45,\n",
       " 'movement': 219,\n",
       " 'they': 331,\n",
       " 'etc': 107,\n",
       " 'there': 330,\n",
       " 'however': 160,\n",
       " 'frustrating': 127,\n",
       " 'limitations': 192,\n",
       " 'entire': 103,\n",
       " 'about': 6,\n",
       " 'half': 141,\n",
       " 'sheet': 296,\n",
       " 'down': 91,\n",
       " 'middle': 208,\n",
       " 'portrait': 267,\n",
       " 'constrains': 69,\n",
       " 'very': 360,\n",
       " 'column': 62,\n",
       " 'row': 288,\n",
       " 'okay': 237,\n",
       " 'be': 31,\n",
       " 'summarized': 324,\n",
       " 'ounces': 247,\n",
       " 'by': 49,\n",
       " '34': 2,\n",
       " 'once': 240,\n",
       " 'becomes': 33,\n",
       " 'more': 216,\n",
       " 'active': 8,\n",
       " 'know': 180,\n",
       " 'than': 326,\n",
       " 'tummy': 349,\n",
       " 'under': 351,\n",
       " 'things': 334,\n",
       " 'start': 316,\n",
       " 'tight': 339,\n",
       " 'problem': 269,\n",
       " 'only': 243,\n",
       " 'covers': 73,\n",
       " 'out': 249,\n",
       " 'fine': 117,\n",
       " 'intention': 172,\n",
       " 'providers': 271,\n",
       " 'wanted': 362,\n",
       " 'which': 374,\n",
       " 'often': 236,\n",
       " 'starts': 319,\n",
       " 'earlier': 94,\n",
       " '6am': 3,\n",
       " 'using': 358,\n",
       " 'require': 283,\n",
       " 'second': 290,\n",
       " 'good': 136,\n",
       " 'read': 276,\n",
       " 'instantly': 170,\n",
       " 'gather': 129,\n",
       " 'matter': 205,\n",
       " 'high': 150,\n",
       " 'quality': 273,\n",
       " 'paper': 255,\n",
       " 'consistent': 68,\n",
       " 'don': 90,\n",
       " 'expensive': 111,\n",
       " 'gets': 132,\n",
       " 'most': 218,\n",
       " 'less': 189,\n",
       " 'babies': 26,\n",
       " 'cover': 72,\n",
       " 'thick': 332,\n",
       " 'not': 231,\n",
       " 'hardback': 145,\n",
       " 'bends': 37,\n",
       " 'easily': 96,\n",
       " 'bag': 30,\n",
       " 'should': 300,\n",
       " 'bigger': 40,\n",
       " 'understand': 352,\n",
       " 'portability': 266,\n",
       " 'concern': 65,\n",
       " 'current': 75,\n",
       " 'size': 304,\n",
       " 'entirely': 104,\n",
       " 'too': 344,\n",
       " 'conclusion': 66,\n",
       " 'making': 202,\n",
       " 'own': 251,\n",
       " 'format': 124,\n",
       " 'spreadsheet': 314,\n",
       " 'includes': 168,\n",
       " '24': 1,\n",
       " 'hour': 157,\n",
       " 'space': 312,\n",
       " 'along': 14,\n",
       " 'other': 246,\n",
       " 'bound': 44,\n",
       " 'cheaply': 56,\n",
       " 'local': 195,\n",
       " 'shop': 297,\n",
       " 'adequate': 10,\n",
       " 'because': 32,\n",
       " 'son': 310,\n",
       " 'born': 43,\n",
       " 'great': 139,\n",
       " 'handy': 143,\n",
       " 'way': 365,\n",
       " 'eats': 99,\n",
       " 'change': 54,\n",
       " 'his': 154,\n",
       " 'makes': 201,\n",
       " 'discuss': 86,\n",
       " 'progress': 270,\n",
       " 'grandparents': 138,\n",
       " 'who': 376,\n",
       " 'watch': 364,\n",
       " 'him': 152,\n",
       " 'gone': 135,\n",
       " 'able': 5,\n",
       " 'maintain': 200,\n",
       " 'schedule': 289,\n",
       " 'me': 206,\n",
       " 'see': 293,\n",
       " 'doing': 89,\n",
       " 'highly': 151,\n",
       " 'parents': 257,\n",
       " 'children': 59,\n",
       " 'especially': 106,\n",
       " 'ones': 242,\n",
       " 'year': 386,\n",
       " 'age': 12,\n",
       " 'continue': 70,\n",
       " 'buy': 48,\n",
       " 'every': 109,\n",
       " 'least': 185,\n",
       " 'been': 35,\n",
       " 'helpful': 149,\n",
       " 'naps': 224,\n",
       " 'developmental': 82,\n",
       " 'laid': 181,\n",
       " 'could': 71,\n",
       " 'leave': 186,\n",
       " 'open': 244,\n",
       " 'left': 187,\n",
       " 'side': 301,\n",
       " 'set': 294,\n",
       " 'flip': 120,\n",
       " 'full': 128,\n",
       " 'nitpick': 230,\n",
       " 'let': 190,\n",
       " 'user': 357,\n",
       " 'fill': 116,\n",
       " 'then': 329,\n",
       " 'identical': 163,\n",
       " 'look': 197,\n",
       " 'glance': 133,\n",
       " 'hands': 142,\n",
       " 'holding': 155,\n",
       " 'pain': 254,\n",
       " 'lean': 184,\n",
       " 'forward': 125,\n",
       " 'pick': 260,\n",
       " 'happend': 144,\n",
       " 'prior': 268}"
      ]
     },
     "execution_count": 52,
     "metadata": {},
     "output_type": "execute_result"
    }
   ],
   "source": [
    "count_vectorizer.vocabulary_"
   ]
  },
  {
   "cell_type": "code",
   "execution_count": 53,
   "metadata": {},
   "outputs": [
    {
     "data": {
      "text/plain": [
       "389"
      ]
     },
     "execution_count": 53,
     "metadata": {},
     "output_type": "execute_result"
    }
   ],
   "source": [
    "len(count_vectorizer.vocabulary_)"
   ]
  },
  {
   "cell_type": "code",
   "execution_count": 54,
   "metadata": {},
   "outputs": [
    {
     "data": {
      "text/plain": [
       "(6, 389)"
      ]
     },
     "execution_count": 54,
     "metadata": {},
     "output_type": "execute_result"
    }
   ],
   "source": [
    "doc_terms = count_vectorizer.fit_transform(docs)\n",
    "doc_terms.shape"
   ]
  },
  {
   "cell_type": "code",
   "execution_count": 55,
   "metadata": {},
   "outputs": [
    {
     "name": "stdout",
     "output_type": "stream",
     "text": [
      "(Doc, WordIndex.): NumOccurences\n",
      "  (0, 336)\t3\n",
      "  (0, 42)\t2\n",
      "  (0, 174)\t1\n",
      "  (0, 258)\t1\n",
      "  (0, 119)\t1\n",
      "  (0, 340)\t1\n",
      "  (0, 227)\t2\n",
      "  (0, 211)\t1\n",
      "  (0, 18)\t1\n",
      "  (0, 199)\t1\n",
      "  (0, 175)\t2\n",
      "  (0, 307)\t1\n",
      "  (0, 97)\t1\n",
      "  (0, 343)\t1\n",
      "  (0, 178)\t1\n",
      "  (0, 346)\t1\n",
      "  (0, 235)\t1\n",
      "  (0, 113)\t1\n",
      "  (0, 83)\t2\n",
      "  (0, 55)\t1\n",
      "  (0, 305)\t1\n",
      "  (0, 80)\t1\n",
      "  (0, 384)\t1\n",
      "  (0, 280)\t1\n",
      "  (0, 121)\t2\n",
      "  :\t:\n",
      "  (5, 181)\t1\n",
      "  (5, 71)\t2\n",
      "  (5, 186)\t1\n",
      "  (5, 244)\t1\n",
      "  (5, 187)\t2\n",
      "  (5, 301)\t1\n",
      "  (5, 294)\t1\n",
      "  (5, 120)\t2\n",
      "  (5, 128)\t3\n",
      "  (5, 230)\t1\n",
      "  (5, 190)\t1\n",
      "  (5, 357)\t1\n",
      "  (5, 116)\t1\n",
      "  (5, 329)\t1\n",
      "  (5, 163)\t1\n",
      "  (5, 197)\t1\n",
      "  (5, 133)\t1\n",
      "  (5, 142)\t1\n",
      "  (5, 155)\t1\n",
      "  (5, 254)\t1\n",
      "  (5, 184)\t1\n",
      "  (5, 125)\t1\n",
      "  (5, 260)\t1\n",
      "  (5, 144)\t1\n",
      "  (5, 268)\t1\n"
     ]
    }
   ],
   "source": [
    "print('(Doc, WordIndex.): NumOccurences')\n",
    "print(doc_terms)"
   ]
  },
  {
   "cell_type": "code",
   "execution_count": 56,
   "metadata": {},
   "outputs": [
    {
     "data": {
      "text/plain": [
       "array([[0, 0, 0, 0, 0, 0, 0, 0, 0, 0, 0, 0, 0, 0, 0, 0, 0, 0, 1, 0, 0, 0,\n",
       "        0, 0, 0, 0, 0, 0, 0, 1, 0, 0, 0, 0, 0, 0, 0, 0, 0, 0, 0, 0, 2, 0,\n",
       "        0, 0, 0, 0, 0, 0, 0, 0, 0, 0, 0, 1, 0, 0, 0, 0, 0, 0, 0, 0, 0, 0,\n",
       "        0, 0, 0, 0, 0, 0, 0, 0, 0, 0, 0, 0, 0, 0, 1, 0, 0, 2, 0, 0, 0, 0,\n",
       "        1, 0, 0, 0, 0, 0, 0, 0, 0, 1, 0, 0, 0, 0, 1, 0, 0, 0, 0, 0, 0, 0,\n",
       "        0, 0, 0, 1, 0, 0, 0, 0, 0, 1, 0, 2, 0, 0, 0, 0, 0, 0, 0, 0, 0, 0,\n",
       "        0, 0, 0, 0, 0, 0, 0, 0, 0, 0, 0, 0, 0, 0, 0, 0, 0, 0, 0, 0, 0, 0,\n",
       "        0, 0, 0, 0, 0, 0, 0, 0, 0, 0, 0, 0, 0, 1, 0, 0, 0, 0, 0, 0, 1, 2,\n",
       "        0, 0, 1, 0, 0, 0, 0, 0, 0, 0, 0, 0, 0, 0, 0, 0, 0, 0, 0, 0, 0, 0,\n",
       "        0, 1, 0, 0, 0, 0, 0, 0, 0, 0, 0, 0, 0, 1, 0, 1, 0, 0, 0, 0, 0, 0,\n",
       "        0, 0, 0, 0, 0, 0, 0, 2, 0, 0, 0, 0, 0, 0, 0, 1, 0, 0, 0, 0, 0, 0,\n",
       "        0, 0, 0, 0, 0, 0, 0, 0, 0, 0, 0, 0, 0, 0, 0, 0, 1, 0, 0, 0, 0, 0,\n",
       "        1, 0, 0, 0, 0, 0, 0, 0, 0, 0, 0, 0, 0, 0, 0, 0, 1, 0, 0, 0, 0, 0,\n",
       "        0, 0, 0, 0, 0, 0, 0, 0, 0, 0, 0, 0, 0, 0, 0, 0, 0, 0, 0, 1, 1, 1,\n",
       "        0, 0, 0, 0, 0, 0, 0, 0, 0, 0, 0, 0, 0, 0, 0, 0, 0, 0, 0, 1, 1, 0,\n",
       "        0, 0, 0, 0, 0, 0, 3, 0, 1, 0, 1, 0, 0, 1, 0, 0, 1, 0, 0, 0, 0, 0,\n",
       "        0, 0, 0, 0, 0, 0, 0, 0, 0, 1, 0, 0, 0, 0, 0, 0, 0, 0, 0, 0, 0, 0,\n",
       "        0, 0, 0, 0, 0, 0, 0, 0, 0, 0, 1, 0, 0, 0, 0]], dtype=int64)"
      ]
     },
     "execution_count": 56,
     "metadata": {},
     "output_type": "execute_result"
    }
   ],
   "source": [
    "doc_terms[0].toarray()"
   ]
  },
  {
   "cell_type": "code",
   "execution_count": 60,
   "metadata": {},
   "outputs": [
    {
     "data": {
      "text/plain": [
       "'this'"
      ]
     },
     "execution_count": 60,
     "metadata": {},
     "output_type": "execute_result"
    }
   ],
   "source": [
    "# Look at word from numbers\n",
    "count_vectorizer.get_feature_names_out()[336]"
   ]
  },
  {
   "cell_type": "code",
   "execution_count": 94,
   "metadata": {},
   "outputs": [],
   "source": [
    "stop_words = set(stopwords.words('english'))"
   ]
  },
  {
   "cell_type": "code",
   "execution_count": 95,
   "metadata": {},
   "outputs": [
    {
     "data": {
      "text/plain": [
       "179"
      ]
     },
     "execution_count": 95,
     "metadata": {},
     "output_type": "execute_result"
    }
   ],
   "source": [
    "len(stop_words)"
   ]
  },
  {
   "cell_type": "code",
   "execution_count": 96,
   "metadata": {},
   "outputs": [
    {
     "data": {
      "text/plain": [
       "CountVectorizer(stop_words={'a', 'about', 'above', 'after', 'again', 'against',\n",
       "                            'ain', 'all', 'am', 'an', 'and', 'any', 'are',\n",
       "                            'aren', \"aren't\", 'as', 'at', 'be', 'because',\n",
       "                            'been', 'before', 'being', 'below', 'between',\n",
       "                            'both', 'but', 'by', 'can', 'couldn', \"couldn't\", ...})"
      ]
     },
     "execution_count": 96,
     "metadata": {},
     "output_type": "execute_result"
    }
   ],
   "source": [
    "count_vectorizer = CountVectorizer(stop_words= stop_words)\n",
    "count_vectorizer.fit(docs)"
   ]
  },
  {
   "cell_type": "code",
   "execution_count": 97,
   "metadata": {},
   "outputs": [
    {
     "data": {
      "text/plain": [
       "302"
      ]
     },
     "execution_count": 97,
     "metadata": {},
     "output_type": "execute_result"
    }
   ],
   "source": [
    "len(count_vectorizer.vocabulary_)"
   ]
  },
  {
   "cell_type": "markdown",
   "metadata": {},
   "source": [
    "## Term Frequency "
   ]
  },
  {
   "cell_type": "code",
   "execution_count": 98,
   "metadata": {},
   "outputs": [],
   "source": [
    "from sklearn.feature_extraction.text import TfidfVectorizer"
   ]
  },
  {
   "cell_type": "code",
   "execution_count": 100,
   "metadata": {},
   "outputs": [
    {
     "data": {
      "text/plain": [
       "TfidfVectorizer(stop_words={'a', 'about', 'above', 'after', 'again', 'against',\n",
       "                            'ain', 'all', 'am', 'an', 'and', 'any', 'are',\n",
       "                            'aren', \"aren't\", 'as', 'at', 'be', 'because',\n",
       "                            'been', 'before', 'being', 'below', 'between',\n",
       "                            'both', 'but', 'by', 'can', 'couldn', \"couldn't\", ...})"
      ]
     },
     "execution_count": 100,
     "metadata": {},
     "output_type": "execute_result"
    }
   ],
   "source": [
    "tfidf_vectorizer = TfidfVectorizer(stop_words=stop_words)\n",
    "\n",
    "tfidf_vectorizer.fit(docs)"
   ]
  },
  {
   "cell_type": "code",
   "execution_count": 102,
   "metadata": {
    "collapsed": true,
    "jupyter": {
     "outputs_hidden": true
    }
   },
   "outputs": [
    {
     "data": {
      "text/plain": [
       "{'book': 27,\n",
       " 'perfect': 202,\n",
       " 'first': 94,\n",
       " 'time': 271,\n",
       " 'new': 183,\n",
       " 'mom': 170,\n",
       " 'made': 159,\n",
       " 'easy': 73,\n",
       " 'keep': 139,\n",
       " 'track': 275,\n",
       " 'feedings': 89,\n",
       " 'diaper': 65,\n",
       " 'changes': 37,\n",
       " 'sleep': 246,\n",
       " 'definitely': 62,\n",
       " 'would': 299,\n",
       " 'recommend': 223,\n",
       " 'moms': 172,\n",
       " 'plus': 208,\n",
       " 'small': 247,\n",
       " 'enough': 78,\n",
       " 'throw': 269,\n",
       " 'back': 19,\n",
       " 'doctor': 69,\n",
       " 'visits': 285,\n",
       " 'use': 281,\n",
       " 'babysitter': 18,\n",
       " 'grandma': 111,\n",
       " 'goes': 108,\n",
       " 'day': 60,\n",
       " 'recorded': 224,\n",
       " 'many': 163,\n",
       " 'milestones': 169,\n",
       " 'since': 243,\n",
       " 'received': 222,\n",
       " 'month': 173,\n",
       " 'diary': 66,\n",
       " 'room': 229,\n",
       " 'notes': 188,\n",
       " 'wish': 294,\n",
       " 'hours': 126,\n",
       " 'started': 256,\n",
       " 'around': 14,\n",
       " 'went': 291,\n",
       " 'pm': 209,\n",
       " 'write': 300,\n",
       " 'certain': 35,\n",
       " 'times': 272,\n",
       " 'suit': 261,\n",
       " 'purposes': 216,\n",
       " 'nice': 184,\n",
       " 'thing': 266,\n",
       " 'rough': 230,\n",
       " 'night': 185,\n",
       " 'super': 264,\n",
       " 'tired': 273,\n",
       " 'something': 248,\n",
       " 'refer': 225,\n",
       " 'forgot': 96,\n",
       " 'last': 143,\n",
       " 'fed': 88,\n",
       " 'baby': 17,\n",
       " 'woke': 295,\n",
       " 'also': 11,\n",
       " 'like': 152,\n",
       " 'front': 100,\n",
       " 'page': 196,\n",
       " 'place': 205,\n",
       " 'emergency': 76,\n",
       " 'comments': 46,\n",
       " 'consent': 49,\n",
       " 'form': 97,\n",
       " 'case': 34,\n",
       " 'child': 39,\n",
       " 'needs': 182,\n",
       " 'medical': 166,\n",
       " 'care': 33,\n",
       " 'immunizations': 131,\n",
       " 'get': 105,\n",
       " 'another': 12,\n",
       " 'one': 192,\n",
       " 'months': 174,\n",
       " 'finish': 93,\n",
       " 'log': 156,\n",
       " 'think': 268,\n",
       " 'work': 296,\n",
       " 'better': 24,\n",
       " 'clearer': 42,\n",
       " 'sections': 235,\n",
       " '12': 0,\n",
       " 'really': 221,\n",
       " 'need': 181,\n",
       " 'two': 279,\n",
       " 'pages': 197,\n",
       " 'feeds': 90,\n",
       " 'wets': 292,\n",
       " 'lot': 158,\n",
       " 'early': 71,\n",
       " 'morning': 175,\n",
       " 'midnight': 168,\n",
       " '7am': 4,\n",
       " 'cramming': 56,\n",
       " 'blank': 26,\n",
       " 'spaces': 252,\n",
       " 'right': 228,\n",
       " 'wife': 293,\n",
       " 'six': 244,\n",
       " 'old': 191,\n",
       " 'boy': 31,\n",
       " 'mark': 164,\n",
       " 'decided': 61,\n",
       " 'return': 227,\n",
       " 'instead': 136,\n",
       " 'stay': 259,\n",
       " 'home': 124,\n",
       " 'hired': 122,\n",
       " 'nanny': 178,\n",
       " 'little': 154,\n",
       " 'arrangement': 15,\n",
       " 'worked': 297,\n",
       " 'quite': 218,\n",
       " 'well': 290,\n",
       " 'ever': 84,\n",
       " 'shortly': 241,\n",
       " 'starting': 257,\n",
       " 'realized': 220,\n",
       " 'sort': 250,\n",
       " 'journal': 138,\n",
       " 'activities': 7,\n",
       " 'working': 298,\n",
       " 'used': 282,\n",
       " 'plain': 206,\n",
       " 'notebook': 187,\n",
       " 'period': 203,\n",
       " 'weeks': 289,\n",
       " 'stumbled': 260,\n",
       " 'tracker': 276,\n",
       " 'daily': 58,\n",
       " 'childcare': 40,\n",
       " 'layout': 144,\n",
       " 'excellent': 86,\n",
       " 'idea': 129,\n",
       " 'clearly': 43,\n",
       " 'divided': 68,\n",
       " 'columns': 45,\n",
       " 'tracking': 277,\n",
       " 'nap': 179,\n",
       " 'play': 207,\n",
       " 'general': 104,\n",
       " 'areas': 13,\n",
       " 'legibility': 149,\n",
       " 'huge': 128,\n",
       " 'improvement': 132,\n",
       " 'standard': 254,\n",
       " 'entries': 81,\n",
       " 'ended': 77,\n",
       " 'becoming': 22,\n",
       " 'paragraphs': 200,\n",
       " 'short': 240,\n",
       " 'moments': 171,\n",
       " 'summarize': 262,\n",
       " 'data': 59,\n",
       " 'totals': 274,\n",
       " 'section': 234,\n",
       " 'determine': 63,\n",
       " 'key': 140,\n",
       " 'information': 134,\n",
       " 'much': 177,\n",
       " 'eat': 74,\n",
       " 'bowel': 30,\n",
       " 'movement': 176,\n",
       " 'etc': 83,\n",
       " 'however': 127,\n",
       " 'frustrating': 101,\n",
       " 'limitations': 153,\n",
       " 'entire': 79,\n",
       " 'half': 114,\n",
       " 'sheet': 238,\n",
       " 'middle': 167,\n",
       " 'portrait': 211,\n",
       " 'constrains': 51,\n",
       " 'column': 44,\n",
       " 'row': 231,\n",
       " 'okay': 190,\n",
       " 'summarized': 263,\n",
       " 'ounces': 195,\n",
       " '34': 2,\n",
       " 'becomes': 21,\n",
       " 'active': 6,\n",
       " 'know': 141,\n",
       " 'tummy': 278,\n",
       " 'things': 267,\n",
       " 'start': 255,\n",
       " 'tight': 270,\n",
       " 'problem': 213,\n",
       " 'covers': 55,\n",
       " 'fine': 92,\n",
       " 'intention': 137,\n",
       " 'providers': 215,\n",
       " 'wanted': 286,\n",
       " 'often': 189,\n",
       " 'starts': 258,\n",
       " 'earlier': 70,\n",
       " '6am': 3,\n",
       " 'using': 284,\n",
       " 'require': 226,\n",
       " 'second': 233,\n",
       " 'good': 110,\n",
       " 'read': 219,\n",
       " 'instantly': 135,\n",
       " 'gather': 103,\n",
       " 'matter': 165,\n",
       " 'high': 120,\n",
       " 'quality': 217,\n",
       " 'paper': 199,\n",
       " 'consistent': 50,\n",
       " 'expensive': 87,\n",
       " 'gets': 106,\n",
       " 'less': 150,\n",
       " 'babies': 16,\n",
       " 'cover': 54,\n",
       " 'thick': 265,\n",
       " 'hardback': 118,\n",
       " 'bends': 23,\n",
       " 'easily': 72,\n",
       " 'bag': 20,\n",
       " 'bigger': 25,\n",
       " 'understand': 280,\n",
       " 'portability': 210,\n",
       " 'concern': 47,\n",
       " 'current': 57,\n",
       " 'size': 245,\n",
       " 'entirely': 80,\n",
       " 'conclusion': 48,\n",
       " 'making': 162,\n",
       " 'format': 98,\n",
       " 'spreadsheet': 253,\n",
       " 'includes': 133,\n",
       " '24': 1,\n",
       " 'hour': 125,\n",
       " 'space': 251,\n",
       " 'along': 10,\n",
       " 'bound': 29,\n",
       " 'cheaply': 38,\n",
       " 'local': 155,\n",
       " 'shop': 239,\n",
       " 'adequate': 8,\n",
       " 'son': 249,\n",
       " 'born': 28,\n",
       " 'great': 113,\n",
       " 'handy': 116,\n",
       " 'way': 288,\n",
       " 'eats': 75,\n",
       " 'change': 36,\n",
       " 'makes': 161,\n",
       " 'discuss': 67,\n",
       " 'progress': 214,\n",
       " 'grandparents': 112,\n",
       " 'watch': 287,\n",
       " 'gone': 109,\n",
       " 'able': 5,\n",
       " 'maintain': 160,\n",
       " 'schedule': 232,\n",
       " 'see': 236,\n",
       " 'highly': 121,\n",
       " 'parents': 201,\n",
       " 'children': 41,\n",
       " 'especially': 82,\n",
       " 'ones': 193,\n",
       " 'year': 301,\n",
       " 'age': 9,\n",
       " 'continue': 52,\n",
       " 'buy': 32,\n",
       " 'every': 85,\n",
       " 'least': 146,\n",
       " 'helpful': 119,\n",
       " 'naps': 180,\n",
       " 'developmental': 64,\n",
       " 'laid': 142,\n",
       " 'could': 53,\n",
       " 'leave': 147,\n",
       " 'open': 194,\n",
       " 'left': 148,\n",
       " 'side': 242,\n",
       " 'set': 237,\n",
       " 'flip': 95,\n",
       " 'full': 102,\n",
       " 'nitpick': 186,\n",
       " 'let': 151,\n",
       " 'user': 283,\n",
       " 'fill': 91,\n",
       " 'identical': 130,\n",
       " 'look': 157,\n",
       " 'glance': 107,\n",
       " 'hands': 115,\n",
       " 'holding': 123,\n",
       " 'pain': 198,\n",
       " 'lean': 145,\n",
       " 'forward': 99,\n",
       " 'pick': 204,\n",
       " 'happend': 117,\n",
       " 'prior': 212}"
      ]
     },
     "execution_count": 102,
     "metadata": {},
     "output_type": "execute_result"
    }
   ],
   "source": [
    "count_vectorizer.vocabulary_"
   ]
  },
  {
   "cell_type": "code",
   "execution_count": 103,
   "metadata": {},
   "outputs": [
    {
     "data": {
      "text/html": [
       "<div>\n",
       "<style scoped>\n",
       "    .dataframe tbody tr th:only-of-type {\n",
       "        vertical-align: middle;\n",
       "    }\n",
       "\n",
       "    .dataframe tbody tr th {\n",
       "        vertical-align: top;\n",
       "    }\n",
       "\n",
       "    .dataframe thead th {\n",
       "        text-align: right;\n",
       "    }\n",
       "</style>\n",
       "<table border=\"1\" class=\"dataframe\">\n",
       "  <thead>\n",
       "    <tr style=\"text-align: right;\">\n",
       "      <th></th>\n",
       "      <th>IDF Score</th>\n",
       "    </tr>\n",
       "  </thead>\n",
       "  <tbody>\n",
       "    <tr>\n",
       "      <th>diaper</th>\n",
       "      <td>1.336472</td>\n",
       "    </tr>\n",
       "    <tr>\n",
       "      <th>would</th>\n",
       "      <td>1.336472</td>\n",
       "    </tr>\n",
       "    <tr>\n",
       "      <th>track</th>\n",
       "      <td>1.336472</td>\n",
       "    </tr>\n",
       "    <tr>\n",
       "      <th>day</th>\n",
       "      <td>1.336472</td>\n",
       "    </tr>\n",
       "    <tr>\n",
       "      <th>page</th>\n",
       "      <td>1.336472</td>\n",
       "    </tr>\n",
       "    <tr>\n",
       "      <th>baby</th>\n",
       "      <td>1.336472</td>\n",
       "    </tr>\n",
       "    <tr>\n",
       "      <th>keep</th>\n",
       "      <td>1.559616</td>\n",
       "    </tr>\n",
       "    <tr>\n",
       "      <th>hours</th>\n",
       "      <td>1.559616</td>\n",
       "    </tr>\n",
       "    <tr>\n",
       "      <th>one</th>\n",
       "      <td>1.559616</td>\n",
       "    </tr>\n",
       "    <tr>\n",
       "      <th>book</th>\n",
       "      <td>1.559616</td>\n",
       "    </tr>\n",
       "  </tbody>\n",
       "</table>\n",
       "</div>"
      ],
      "text/plain": [
       "        IDF Score\n",
       "diaper   1.336472\n",
       "would    1.336472\n",
       "track    1.336472\n",
       "day      1.336472\n",
       "page     1.336472\n",
       "baby     1.336472\n",
       "keep     1.559616\n",
       "hours    1.559616\n",
       "one      1.559616\n",
       "book     1.559616"
      ]
     },
     "execution_count": 103,
     "metadata": {},
     "output_type": "execute_result"
    }
   ],
   "source": [
    "df = pd.DataFrame(tfidf_vectorizer.idf_,\n",
    "                 index= tfidf_vectorizer.get_feature_names_out(),\n",
    "                 columns= ['IDF Score'])\n",
    "\n",
    "df.sort_values(by= ['IDF Score']).head(10)"
   ]
  },
  {
   "cell_type": "code",
   "execution_count": 104,
   "metadata": {},
   "outputs": [
    {
     "data": {
      "text/html": [
       "<div>\n",
       "<style scoped>\n",
       "    .dataframe tbody tr th:only-of-type {\n",
       "        vertical-align: middle;\n",
       "    }\n",
       "\n",
       "    .dataframe tbody tr th {\n",
       "        vertical-align: top;\n",
       "    }\n",
       "\n",
       "    .dataframe thead th {\n",
       "        text-align: right;\n",
       "    }\n",
       "</style>\n",
       "<table border=\"1\" class=\"dataframe\">\n",
       "  <thead>\n",
       "    <tr style=\"text-align: right;\">\n",
       "      <th></th>\n",
       "      <th>IDF Score</th>\n",
       "    </tr>\n",
       "  </thead>\n",
       "  <tbody>\n",
       "    <tr>\n",
       "      <th>gather</th>\n",
       "      <td>2.252763</td>\n",
       "    </tr>\n",
       "    <tr>\n",
       "      <th>great</th>\n",
       "      <td>2.252763</td>\n",
       "    </tr>\n",
       "    <tr>\n",
       "      <th>grandma</th>\n",
       "      <td>2.252763</td>\n",
       "    </tr>\n",
       "    <tr>\n",
       "      <th>good</th>\n",
       "      <td>2.252763</td>\n",
       "    </tr>\n",
       "    <tr>\n",
       "      <th>gone</th>\n",
       "      <td>2.252763</td>\n",
       "    </tr>\n",
       "    <tr>\n",
       "      <th>goes</th>\n",
       "      <td>2.252763</td>\n",
       "    </tr>\n",
       "    <tr>\n",
       "      <th>glance</th>\n",
       "      <td>2.252763</td>\n",
       "    </tr>\n",
       "    <tr>\n",
       "      <th>gets</th>\n",
       "      <td>2.252763</td>\n",
       "    </tr>\n",
       "    <tr>\n",
       "      <th>grandparents</th>\n",
       "      <td>2.252763</td>\n",
       "    </tr>\n",
       "    <tr>\n",
       "      <th>year</th>\n",
       "      <td>2.252763</td>\n",
       "    </tr>\n",
       "  </tbody>\n",
       "</table>\n",
       "</div>"
      ],
      "text/plain": [
       "              IDF Score\n",
       "gather         2.252763\n",
       "great          2.252763\n",
       "grandma        2.252763\n",
       "good           2.252763\n",
       "gone           2.252763\n",
       "goes           2.252763\n",
       "glance         2.252763\n",
       "gets           2.252763\n",
       "grandparents   2.252763\n",
       "year           2.252763"
      ]
     },
     "execution_count": 104,
     "metadata": {},
     "output_type": "execute_result"
    }
   ],
   "source": [
    "# High idf Scores\n",
    "df.sort_values(by= ['IDF Score']).tail(10)"
   ]
  },
  {
   "cell_type": "code",
   "execution_count": 105,
   "metadata": {},
   "outputs": [
    {
     "data": {
      "text/plain": [
       "<6x302 sparse matrix of type '<class 'numpy.float64'>'\n",
       "\twith 385 stored elements in Compressed Sparse Row format>"
      ]
     },
     "execution_count": 105,
     "metadata": {},
     "output_type": "execute_result"
    }
   ],
   "source": [
    "# Generate tf_idf vectors\n",
    "tfidf_vectors = tfidf_vectorizer.fit_transform(docs)\n",
    "\n",
    "tfidf_vectors"
   ]
  },
  {
   "cell_type": "code",
   "execution_count": 106,
   "metadata": {},
   "outputs": [
    {
     "data": {
      "text/plain": [
       "matrix([[0.        , 0.        , 0.        , 0.        , 0.        ,\n",
       "         0.        , 0.        , 0.        , 0.        , 0.        ,\n",
       "         0.        , 0.        , 0.        , 0.        , 0.        ,\n",
       "         0.        , 0.        , 0.        , 0.        , 0.17171504,\n",
       "         0.        , 0.        , 0.        , 0.        , 0.        ,\n",
       "         0.        , 0.        , 0.28994728, 0.        , 0.        ,\n",
       "         0.        , 0.        , 0.        , 0.        , 0.        ,\n",
       "         0.        , 0.        , 0.14497364, 0.        , 0.        ,\n",
       "         0.        , 0.        , 0.        , 0.        , 0.        ,\n",
       "         0.        , 0.        , 0.        , 0.        , 0.        ,\n",
       "         0.        , 0.        , 0.        , 0.        , 0.        ,\n",
       "         0.        , 0.        , 0.        , 0.        , 0.        ,\n",
       "         0.        , 0.        , 0.14497364, 0.        , 0.        ,\n",
       "         0.24846279, 0.        , 0.        , 0.        , 0.17171504,\n",
       "         0.        , 0.        , 0.        , 0.14497364, 0.        ,\n",
       "         0.        , 0.        , 0.        , 0.20940494, 0.        ,\n",
       "         0.        , 0.        , 0.        , 0.        , 0.        ,\n",
       "         0.        , 0.        , 0.        , 0.        , 0.14497364,\n",
       "         0.        , 0.        , 0.        , 0.        , 0.17171504,\n",
       "         0.        , 0.        , 0.        , 0.        , 0.        ,\n",
       "         0.        , 0.        , 0.        , 0.        , 0.        ,\n",
       "         0.        , 0.        , 0.        , 0.        , 0.        ,\n",
       "         0.        , 0.        , 0.        , 0.        , 0.        ,\n",
       "         0.        , 0.        , 0.        , 0.        , 0.        ,\n",
       "         0.        , 0.        , 0.        , 0.        , 0.        ,\n",
       "         0.        , 0.        , 0.        , 0.        , 0.        ,\n",
       "         0.        , 0.        , 0.        , 0.        , 0.        ,\n",
       "         0.        , 0.        , 0.        , 0.        , 0.14497364,\n",
       "         0.        , 0.        , 0.        , 0.        , 0.        ,\n",
       "         0.        , 0.        , 0.        , 0.        , 0.        ,\n",
       "         0.        , 0.        , 0.        , 0.        , 0.        ,\n",
       "         0.        , 0.        , 0.        , 0.        , 0.20940494,\n",
       "         0.        , 0.        , 0.        , 0.        , 0.        ,\n",
       "         0.        , 0.        , 0.        , 0.        , 0.        ,\n",
       "         0.17171504, 0.        , 0.20940494, 0.        , 0.        ,\n",
       "         0.        , 0.        , 0.        , 0.        , 0.        ,\n",
       "         0.        , 0.        , 0.        , 0.41880988, 0.        ,\n",
       "         0.        , 0.        , 0.        , 0.        , 0.        ,\n",
       "         0.        , 0.        , 0.        , 0.        , 0.        ,\n",
       "         0.        , 0.        , 0.        , 0.        , 0.        ,\n",
       "         0.        , 0.        , 0.20940494, 0.        , 0.        ,\n",
       "         0.        , 0.        , 0.        , 0.20940494, 0.        ,\n",
       "         0.        , 0.        , 0.        , 0.        , 0.        ,\n",
       "         0.        , 0.        , 0.        , 0.        , 0.        ,\n",
       "         0.        , 0.        , 0.        , 0.17171504, 0.        ,\n",
       "         0.        , 0.        , 0.        , 0.        , 0.        ,\n",
       "         0.        , 0.        , 0.        , 0.        , 0.        ,\n",
       "         0.        , 0.        , 0.        , 0.        , 0.        ,\n",
       "         0.        , 0.        , 0.        , 0.        , 0.        ,\n",
       "         0.        , 0.17171504, 0.17171504, 0.        , 0.        ,\n",
       "         0.        , 0.        , 0.        , 0.        , 0.        ,\n",
       "         0.        , 0.        , 0.        , 0.        , 0.        ,\n",
       "         0.        , 0.        , 0.        , 0.        , 0.        ,\n",
       "         0.        , 0.        , 0.        , 0.        , 0.20940494,\n",
       "         0.        , 0.17171504, 0.        , 0.        , 0.        ,\n",
       "         0.12423139, 0.        , 0.        , 0.        , 0.        ,\n",
       "         0.        , 0.        , 0.        , 0.        , 0.        ,\n",
       "         0.20940494, 0.        , 0.        , 0.        , 0.        ,\n",
       "         0.        , 0.        , 0.        , 0.        , 0.        ,\n",
       "         0.        , 0.        , 0.        , 0.        , 0.12423139,\n",
       "         0.        , 0.        ]])"
      ]
     },
     "execution_count": 106,
     "metadata": {},
     "output_type": "execute_result"
    }
   ],
   "source": [
    "tfidf_vectors[0].todense()"
   ]
  },
  {
   "cell_type": "code",
   "execution_count": 114,
   "metadata": {},
   "outputs": [
    {
     "data": {
      "text/plain": [
       "'book'"
      ]
     },
     "execution_count": 114,
     "metadata": {},
     "output_type": "execute_result"
    }
   ],
   "source": [
    "tfidf_vectorizer.get_feature_names_out()[27]"
   ]
  },
  {
   "cell_type": "code",
   "execution_count": 115,
   "metadata": {},
   "outputs": [
    {
     "data": {
      "text/plain": [
       "matrix([[0.28994728],\n",
       "        [0.1799148 ],\n",
       "        [0.        ],\n",
       "        [0.        ],\n",
       "        [0.09659071],\n",
       "        [0.        ]])"
      ]
     },
     "execution_count": 115,
     "metadata": {},
     "output_type": "execute_result"
    }
   ],
   "source": [
    "tfidf_vectors[:, 27].todense()"
   ]
  },
  {
   "cell_type": "markdown",
   "metadata": {},
   "source": [
    "### IDF Score may be defferent from document to another for the same word !"
   ]
  },
  {
   "cell_type": "code",
   "execution_count": null,
   "metadata": {},
   "outputs": [],
   "source": []
  }
 ],
 "metadata": {
  "kernelspec": {
   "display_name": "Python 3",
   "language": "python",
   "name": "python3"
  },
  "language_info": {
   "codemirror_mode": {
    "name": "ipython",
    "version": 3
   },
   "file_extension": ".py",
   "mimetype": "text/x-python",
   "name": "python",
   "nbconvert_exporter": "python",
   "pygments_lexer": "ipython3",
   "version": "3.8.5"
  }
 },
 "nbformat": 4,
 "nbformat_minor": 4
}
